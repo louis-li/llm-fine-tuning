{
 "cells": [
  {
   "cell_type": "markdown",
   "metadata": {},
   "source": [
    "### Example running fine-tuning on Azure Open AI's SQL query generation problem.\n",
    "We use the same base dataset sql_examples.jsonl "
   ]
  },
  {
   "cell_type": "markdown",
   "metadata": {},
   "source": [
    "Use Azure Region **Sweden Central**"
   ]
  },
  {
   "cell_type": "markdown",
   "metadata": {},
   "source": [
    "#### Data preparation   "
   ]
  },
  {
   "cell_type": "code",
   "execution_count": 3,
   "metadata": {},
   "outputs": [],
   "source": [
    "import pandas as pd\n",
    "from sklearn.model_selection import train_test_split\n",
    "#load raw data\n",
    "sql_raw = pd.read_json(\"../llama2/data/sql_examples.jsonl\", lines=True).to_dict(orient=\"records\") # load raw data from jsonl file\n",
    "template= '{{\"messages\": [{{\"role\": \"system\", \"content\": \"You are querying the sales database, what is the SQL query for the following input question?\"}}, {{\"role\": \"user\", \"content\": \"{question}\"}}, {{\"role\": \"assistant\", \"content\": \"{sql_query}\"}}]}}'\n",
    "#apply the template to the raw data\n",
    "sql_data = [template.format(question=d[\"input\"], sql_query=d[\"output\"]) for d in sql_raw]\n",
    "#save the data to a jsonl file\n",
    "sql_data_train, sql_data_test = train_test_split(sql_data, test_size=0.2, random_state=42) \n",
    "with open(\"../data/sql_examples_training.jsonl\", \"w\") as f:\n",
    "    for line in sql_data_train:\n",
    "        f.write(line + \"\\n\")\n",
    "with open(\"../data/sql_examples_validation.jsonl\", \"w\") as f:\n",
    "    for line in sql_data_test:\n",
    "        f.write(line + \"\\n\")\n"
   ]
  },
  {
   "cell_type": "code",
   "execution_count": 2,
   "metadata": {},
   "outputs": [],
   "source": [
    "from openai import AzureOpenAI\n",
    "from dotenv import load_dotenv\n",
    "\n",
    "load_dotenv()\n",
    "\n",
    "client = AzureOpenAI(\n",
    "  azure_endpoint = os.getenv(\"AZURE_OPENAI_ENDPOINT\"), \n",
    "  api_key=os.getenv(\"AZURE_OPENAI_KEY\"),  \n",
    "  api_version=\"2024-02-15-preview\"\n",
    ")\n",
    "\n"
   ]
  },
  {
   "cell_type": "code",
   "execution_count": null,
   "metadata": {},
   "outputs": [],
   "source": [
    "file_id = client.files.create(\n",
    "  file=open(\"../data/sql_examples_training.jsonl\", \"rb\"),\n",
    "  purpose=\"fine-tune\"\n",
    ")"
   ]
  },
  {
   "cell_type": "code",
   "execution_count": 7,
   "metadata": {},
   "outputs": [
    {
     "data": {
      "text/plain": [
       "FineTuningJob(id='ftjob-d3e17f61183e4418a1a087daed0ffb85', created_at=1709682399, error=None, fine_tuned_model=None, finished_at=None, hyperparameters=Hyperparameters(n_epochs=-1, batch_size=-1, learning_rate_multiplier=1), model='gpt-35-turbo-0125', object='fine_tuning.job', organization_id=None, result_files=None, status='pending', trained_tokens=None, training_file='file-3aa6886a393742228166759ba9379136', validation_file=None)"
      ]
     },
     "execution_count": 7,
     "metadata": {},
     "output_type": "execute_result"
    }
   ],
   "source": [
    "\n",
    "client.fine_tuning.jobs.create(\n",
    "  training_file=file_id.id, \n",
    "  model=\"gpt-35-turbo-0125\"\n",
    ")"
   ]
  },
  {
   "cell_type": "code",
   "execution_count": 3,
   "metadata": {},
   "outputs": [
    {
     "data": {
      "text/plain": [
       "SyncCursorPage[FineTuningJob](data=[FineTuningJob(id='ftjob-d3e17f61183e4418a1a087daed0ffb85', created_at=1709682399, error=None, fine_tuned_model=None, finished_at=None, hyperparameters=Hyperparameters(n_epochs=-1, batch_size=-1, learning_rate_multiplier=1), model='gpt-35-turbo-0125', object='fine_tuning.job', organization_id=None, result_files=None, status='pending', trained_tokens=None, training_file='file-3aa6886a393742228166759ba9379136', validation_file=None), FineTuningJob(id='ftjob-6d9da57bc84a4815a00fce1abfad4c92', created_at=1709682305, error=None, fine_tuned_model=None, finished_at=None, hyperparameters=Hyperparameters(n_epochs=-1, batch_size=-1, learning_rate_multiplier=1), model='gpt-35-turbo-0613', object='fine_tuning.job', organization_id=None, result_files=None, status='running', trained_tokens=None, training_file='file-e40dc3569422454ba96d86ba5d9cff3f', validation_file='file-c849ad30f0b146ecabe378d615d448e8')], has_more=False, object='list')"
      ]
     },
     "execution_count": 3,
     "metadata": {},
     "output_type": "execute_result"
    }
   ],
   "source": [
    "# List 10 fine-tuning jobs\n",
    "client.fine_tuning.jobs.list(limit=10)"
   ]
  },
  {
   "cell_type": "code",
   "execution_count": 4,
   "metadata": {},
   "outputs": [
    {
     "data": {
      "text/plain": [
       "FineTuningJob(id='ftjob-6d9da57bc84a4815a00fce1abfad4c92', created_at=1709682305, error=None, fine_tuned_model=None, finished_at=None, hyperparameters=Hyperparameters(n_epochs=-1, batch_size=-1, learning_rate_multiplier=1), model='gpt-35-turbo-0613', object='fine_tuning.job', organization_id=None, result_files=None, status='running', trained_tokens=None, training_file='file-e40dc3569422454ba96d86ba5d9cff3f', validation_file='file-c849ad30f0b146ecabe378d615d448e8')"
      ]
     },
     "execution_count": 4,
     "metadata": {},
     "output_type": "execute_result"
    }
   ],
   "source": [
    "# Retrieve the state of a fine-tune\n",
    "client.fine_tuning.jobs.retrieve(\"ftjob-6d9da57bc84a4815a00fce1abfad4c92\")\n"
   ]
  },
  {
   "cell_type": "code",
   "execution_count": 5,
   "metadata": {},
   "outputs": [
    {
     "data": {
      "text/plain": [
       "FineTuningJob(id='ftjob-6d9da57bc84a4815a00fce1abfad4c92', created_at=1709682305, error=None, fine_tuned_model=None, finished_at=1709683413, hyperparameters=Hyperparameters(n_epochs=-1, batch_size=-1, learning_rate_multiplier=1), model='gpt-35-turbo-0613', object='fine_tuning.job', organization_id=None, result_files=None, status='cancelled', trained_tokens=None, training_file='file-e40dc3569422454ba96d86ba5d9cff3f', validation_file='file-c849ad30f0b146ecabe378d615d448e8')"
      ]
     },
     "execution_count": 5,
     "metadata": {},
     "output_type": "execute_result"
    }
   ],
   "source": [
    "# Cancel a job\n",
    "client.fine_tuning.jobs.cancel(\"ftjob-6d9da57bc84a4815a00fce1abfad4c92\")"
   ]
  },
  {
   "cell_type": "code",
   "execution_count": 9,
   "metadata": {},
   "outputs": [],
   "source": [
    "# List up to 10 events from a fine-tuning job\n",
    "events = client.fine_tuning.jobs.list_events(fine_tuning_job_id=\"ftjob-6d9da57bc84a4815a00fce1abfad4c92\", limit=10)"
   ]
  },
  {
   "cell_type": "code",
   "execution_count": 12,
   "metadata": {},
   "outputs": [
    {
     "name": "stdout",
     "output_type": "stream",
     "text": [
      "Training started.\n",
      "Job started.\n",
      "Preprocessing started.\n",
      "Job enqueued. Waiting for jobs ahead to complete.\n"
     ]
    }
   ],
   "source": [
    "for e in events:\n",
    "    print(e.message)"
   ]
  },
  {
   "cell_type": "markdown",
   "metadata": {},
   "source": [
    "# Use a fine-tuned model"
   ]
  },
  {
   "cell_type": "code",
   "execution_count": null,
   "metadata": {},
   "outputs": [],
   "source": [
    "from openai import AzureOpenAI\n",
    "from dotenv import load_dotenv\n",
    "\n",
    "load_dotenv()\n",
    "\n",
    "client = AzureOpenAI(\n",
    "  azure_endpoint = os.getenv(\"AZURE_OPENAI_ENDPOINT\"), \n",
    "  api_key=os.getenv(\"AZURE_OPENAI_KEY\"),  \n",
    "  api_version=\"2024-02-15-preview\"\n",
    ")\n",
    "\n",
    "completion = client.chat.completions.create(\n",
    "  model=\"ft:gpt-3.5-turbo:my-org:custom_suffix:id\",\n",
    "  messages=[\n",
    "    {\"role\": \"system\", \"content\": \"You are a helpful assistant.\"},\n",
    "    {\"role\": \"user\", \"content\": \"Hello!\"}\n",
    "  ]\n",
    ")\n",
    "print(completion.choices[0].message)"
   ]
  }
 ],
 "metadata": {
  "kernelspec": {
   "display_name": "base",
   "language": "python",
   "name": "python3"
  },
  "language_info": {
   "codemirror_mode": {
    "name": "ipython",
    "version": 3
   },
   "file_extension": ".py",
   "mimetype": "text/x-python",
   "name": "python",
   "nbconvert_exporter": "python",
   "pygments_lexer": "ipython3",
   "version": "3.10.11"
  }
 },
 "nbformat": 4,
 "nbformat_minor": 2
}
